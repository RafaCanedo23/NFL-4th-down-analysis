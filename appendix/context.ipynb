{
 "cells": [
  {
   "cell_type": "code",
   "execution_count": 1,
   "metadata": {},
   "outputs": [
    {
     "name": "stdout",
     "output_type": "stream",
     "text": [
      "2019 done.\n",
      "2020 done.\n",
      "2021 done.\n",
      "2022 done.\n",
      "2023 done.\n",
      "Downcasting floats.\n"
     ]
    }
   ],
   "source": [
    "import nfl_data_py as nfl\n",
    "import pandas as pd\n",
    "import numpy as np\n",
    "\n",
    "# Ejectuamos la búsqueda\n",
    "years = [2019, 2020, 2021, 2022, 2023] \n",
    "data = nfl.import_pbp_data(years = years)\n"
   ]
  },
  {
   "cell_type": "code",
   "execution_count": 2,
   "metadata": {},
   "outputs": [
    {
     "name": "stderr",
     "output_type": "stream",
     "text": [
      "C:\\Users\\rafae\\AppData\\Local\\Temp\\ipykernel_1464\\4212933451.py:16: SettingWithCopyWarning: \n",
      "A value is trying to be set on a copy of a slice from a DataFrame.\n",
      "Try using .loc[row_indexer,col_indexer] = value instead\n",
      "\n",
      "See the caveats in the documentation: https://pandas.pydata.org/pandas-docs/stable/user_guide/indexing.html#returning-a-view-versus-a-copy\n",
      "  fourth_down_data['play_location'] = np.where(fourth_down_data['play_type'] == 'pass', fourth_down_data['pass_location'], fourth_down_data['run_location'])\n"
     ]
    }
   ],
   "source": [
    "# Seleccionamos las observaciones pertinentes al proyecto\n",
    "fourth_down_data_row = data[(data['down'] == 4) & \n",
    "                            (data['play_type'].isin(['pass', 'run'])) &\n",
    "                            (data['replay_or_challenge'] == 0) &\n",
    "                            (data['penalty'] == 0)] \n",
    "\n",
    "# Definimos las variables de interés\n",
    "scoped_variables = ['yardline_100', 'posteam_type', 'half_seconds_remaining', 'game_half', 'goal_to_go', 'ydstogo', 'ydsnet', 'play_type',\n",
    "                    'shotgun', 'no_huddle', 'qb_dropback', 'pass_length', 'pass_location', 'run_location', 'run_gap', 'score_differential',\n",
    "                    'fourth_down_converted']\n",
    "\n",
    "# Nos quedamos con el scope final (row data)\n",
    "fourth_down_data = fourth_down_data_row[scoped_variables]\n",
    "\n",
    "# Combinamos las columnas de run & pass location (porque son los mismo valores únicos)\n",
    "fourth_down_data['play_location'] = np.where(fourth_down_data['play_type'] == 'pass', fourth_down_data['pass_location'], fourth_down_data['run_location'])\n",
    "fourth_down_data = fourth_down_data.dropna(subset=['play_location']) \n",
    "\n",
    "# Quitamos las variables de pass & run locations\n",
    "fourth_down_data = fourth_down_data.drop(columns = ['pass_location', 'run_location'])\n",
    "\n",
    "# Combinamos las columnas de run & pass location (porque son los mismos valores únicos)\n",
    "fourth_down_data['play_subtype'] = np.where(fourth_down_data['play_type'] == 'pass', \n",
    "                                             ('Pass: ' + fourth_down_data['pass_length']), ('Run: ' + fourth_down_data['run_gap']))\n",
    "\n",
    "fourth_down_data = fourth_down_data.dropna(subset=['play_subtype']) \n",
    "\n",
    "# Quitamos las variables de pass & run locations\n",
    "fourth_down_data = fourth_down_data.drop(columns = ['pass_length', 'run_gap'])\n",
    "\n",
    "# Generamos una nueva columna con rangos para la variable yardline_100\n",
    "bins = list(range(0, 101, 10))\n",
    "labels = [f\"{i}-{i+9}\" for i in bins[:-1]]\n",
    "fourth_down_data['yardline_group'] = pd.cut(fourth_down_data['yardline_100'], bins=bins, labels=labels, right=False)\n",
    "\n",
    "# Asignamos etiquetas a la variable y\n",
    "fourth_down_data['fourth_down_converted'] = fourth_down_data['fourth_down_converted'].replace({0: 'Not converted', 1: 'Converted'})\n",
    "\n",
    "# Guardamos la data final como un csv para facilitar tanto el modelo como el EDA\n",
    "fourth_down_data.to_csv(\"C:/Users/rafae/OneDrive/Documentos/Personal/Ciencia de datos/TOG/Final_docs/fourth_down_data.csv\", index=False)"
   ]
  },
  {
   "cell_type": "code",
   "execution_count": null,
   "metadata": {},
   "outputs": [],
   "source": [
    "fourth_down_data.head(50)"
   ]
  }
 ],
 "metadata": {
  "kernelspec": {
   "display_name": "base",
   "language": "python",
   "name": "python3"
  },
  "language_info": {
   "codemirror_mode": {
    "name": "ipython",
    "version": 3
   },
   "file_extension": ".py",
   "mimetype": "text/x-python",
   "name": "python",
   "nbconvert_exporter": "python",
   "pygments_lexer": "ipython3",
   "version": "3.11.4"
  }
 },
 "nbformat": 4,
 "nbformat_minor": 2
}
